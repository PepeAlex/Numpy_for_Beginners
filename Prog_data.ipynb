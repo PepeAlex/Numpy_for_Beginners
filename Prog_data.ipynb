{
 "cells": [
  {
   "cell_type": "markdown",
   "metadata": {},
   "source": [
    "# Project 2019\n",
    "\n",
    "### Institution: Galway-Mayo Institute of Technology - GMIT\n",
    "\n",
    "### Curso: Higher Diploma in Data Analytics\n",
    "\n",
    "### Module: Programming for Data Analysis\n",
    "\n",
    "### Author: Alexander Pepe\n",
    "\n",
    "> This project is a research about NUMPY.RANDOM and your functionality. My project is the overall purpose of the package and aim that people have easily access to information about it and try to use it correctly. \n",
    "\n",
    "> This project is avaiable at https://github.com/PepeAlex/numpy.random. \n",
    "\n",
    "## Introduction\n",
    "\n",
    "NumPy is library for the Python programming language, adding support for large, multi-dimensional arrays and matrices; and all of elements have to the same type; and has many contributors because it is an open-source software. https://en.wikipedia.org/wiki/NumPy\n",
    "People can perform many operations with numpy, such as:\n",
    "    - Mathematical and logical operations on arrays.\n",
    "    - Fourier transforms and routines for shape manipulation.\n",
    "    - Operations related for linear algebra. Numpy has in-built functions for linear algebra and random number generation.\n",
    "It is necessary to install Python to use NumPy and the most recommend distribution is Anaconda (https://www.anaconda.com/distribution/) that aims to simplify package management and deployment. Package versions are managed by the conda package management system.\n",
    "\n",
    "## Why use Numpy?\n",
    "\n",
    "Numpy code is much cleaner than Python codethat tries to accomplish the same task. Numpy's array are stored more efficiently than an equivalent data structure in base Python such as list of lists; and Numpy is also faster than pure Python code.\n",
    "\n",
    "## How to install\n",
    "\n",
    "Anaconda supports Windows, macOS and Linux. Firstly, you have to download the Anaconda distribution for with operational sistems you choose and follow the steps until finish the install. For more information see link https://docs.anaconda.com/anaconda/. On some operating systems, Python is already installed. However, if you want to install Numpy directly form its website, you need to check whether the Python version corresponds with the Numpy that you downloaded. The link (https://www.scipy.org/scipylib/download.html) describe easily how can you download Numpy. \n",
    "\n",
    "## Numpy.random\n",
    "\n",
    "Actually, the objective of my project is describe Numpy.random. I gave you some information above to make sure what you need to run numpy correctly.\n",
    "Numpy.random is a submodule of Numpy that generate random numbers and for that it uses a particular algorithm, called the Mersenne Twister, to generate pseudorandom numbers. https://subscription.packtpub.com/book/big_data_and_business_intelligence/9781785285110/2/ch02lvl1sec16/numpy-random-numbers .\n",
    "Random numbers can be generated from discrete or continuous distributions. The distribution functions have an optional \"size\" parameter, whith tells Numpy how many numbers to generate; and you can specify either an integer or a tuple as size.\n",
    "\n",
    "There are inside Numpy.random four subset such as:\n",
    "    \n",
    "####    1 - Simple random data\n",
    "    \n",
    "####    2 - Permutations \n",
    "    \n",
    "####    3 - Distributions\n",
    "    \n",
    "####    4 - Random generator\n",
    "\n",
    "I will create some codes to describe numpy.random and your functionality. I used Jupyter Notebook that it will be installed by Anaconda or directly at https://jupyter.org/index.html."
   ]
  },
  {
   "cell_type": "code",
   "execution_count": 1,
   "metadata": {},
   "outputs": [],
   "source": [
    "import numpy as np  # import the library Numpy and rename it as \"np\" to be easier."
   ]
  },
  {
   "cell_type": "markdown",
   "metadata": {},
   "source": [
    "## 1 - Simple random data\n",
    "\n",
    "#### A simple random sample is a subset of a statistical population in which each member of the subset has an equal probability of being chosen. A simple random sample is meant to be an unbiased representation of a group.\n",
    "https://www.investopedia.com/terms/s/simple-random-sample.asp\n",
    "\n",
    "### Now I will show you a small code brief in Simple random data."
   ]
  },
  {
   "cell_type": "markdown",
   "metadata": {},
   "source": [
    "#### rand"
   ]
  },
  {
   "cell_type": "code",
   "execution_count": 2,
   "metadata": {},
   "outputs": [
    {
     "data": {
      "text/plain": [
       "array([[0.65380909, 0.04443144, 0.97847836, 0.47765915, 0.24224491,\n",
       "        0.11610351],\n",
       "       [0.52907371, 0.01601837, 0.73206137, 0.77128268, 0.4185943 ,\n",
       "        0.51315553]])"
      ]
     },
     "execution_count": 2,
     "metadata": {},
     "output_type": "execute_result"
    }
   ],
   "source": [
    "# Produce a random float between 0 and 1.\n",
    "# RAND calculates a new value each time the code is running.\n",
    "\n",
    "np.random.rand(2, 6) # 2 rows and 6 columms"
   ]
  },
  {
   "cell_type": "markdown",
   "metadata": {},
   "source": [
    "#### randn"
   ]
  },
  {
   "cell_type": "code",
   "execution_count": 3,
   "metadata": {},
   "outputs": [
    {
     "data": {
      "text/plain": [
       "0.006440246741101149"
      ]
     },
     "execution_count": 3,
     "metadata": {},
     "output_type": "execute_result"
    }
   ],
   "source": [
    "# Return a sample from the \"standard normal\" distribution. The number around a mean.\n",
    "\n",
    "np.random.randn() "
   ]
  },
  {
   "cell_type": "markdown",
   "metadata": {},
   "source": [
    "#### randint"
   ]
  },
  {
   "cell_type": "code",
   "execution_count": 4,
   "metadata": {},
   "outputs": [
    {
     "data": {
      "text/plain": [
       "0"
      ]
     },
     "execution_count": 4,
     "metadata": {},
     "output_type": "execute_result"
    }
   ],
   "source": [
    "# Return pseudorandom integer between a and b.\n",
    "\n",
    "np.random.randint(0, 3) # a = 0 and b = 3"
   ]
  },
  {
   "cell_type": "markdown",
   "metadata": {},
   "source": [
    "#### random_integers"
   ]
  },
  {
   "cell_type": "code",
   "execution_count": 5,
   "metadata": {},
   "outputs": [
    {
     "name": "stderr",
     "output_type": "stream",
     "text": [
      "C:\\Users\\biolo\\Anaconda3\\lib\\site-packages\\ipykernel_launcher.py:4: DeprecationWarning: This function is deprecated. Please call randint(1, 5 + 1) instead\n",
      "  after removing the cwd from sys.path.\n"
     ]
    },
    {
     "data": {
      "text/plain": [
       "array([1, 2, 2, 3, 4, 2, 1, 2, 3, 5])"
      ]
     },
     "execution_count": 5,
     "metadata": {},
     "output_type": "execute_result"
    }
   ],
   "source": [
    "# It returns an array of specified shape and fills it with random integers from low (inclusive) to high (exclusive),\n",
    "# i.e. in the interval [low, high).\n",
    "\n",
    "np.random.random_integers(5, size=10) "
   ]
  },
  {
   "cell_type": "markdown",
   "metadata": {},
   "source": [
    "In this function, the kernel´s result has been deprecated and indicate what do you need to do. In case change to randint(1, 5 + 1).\n",
    "\n",
    "In: np.random.randint(1, 5 + 1)"
   ]
  },
  {
   "cell_type": "code",
   "execution_count": 6,
   "metadata": {},
   "outputs": [
    {
     "data": {
      "text/plain": [
       "1"
      ]
     },
     "execution_count": 6,
     "metadata": {},
     "output_type": "execute_result"
    }
   ],
   "source": [
    "np.random.randint(1, 5 + 1)"
   ]
  },
  {
   "cell_type": "markdown",
   "metadata": {},
   "source": [
    "#### random_sample, random, ranf"
   ]
  },
  {
   "cell_type": "code",
   "execution_count": 7,
   "metadata": {},
   "outputs": [
    {
     "data": {
      "text/plain": [
       "array([0.6565695, 0.2199725])"
      ]
     },
     "execution_count": 7,
     "metadata": {},
     "output_type": "execute_result"
    }
   ],
   "source": [
    "# All the functions return random floats in the half-open interval [0.0, 1.0).\n",
    "\n",
    "np.random.random_sample()\n",
    "np.random.random(size=3)\n",
    "np.random.ranf(2,)"
   ]
  },
  {
   "cell_type": "markdown",
   "metadata": {},
   "source": [
    "#### choice"
   ]
  },
  {
   "cell_type": "code",
   "execution_count": 8,
   "metadata": {},
   "outputs": [
    {
     "data": {
      "text/plain": [
       "3"
      ]
     },
     "execution_count": 8,
     "metadata": {},
     "output_type": "execute_result"
    }
   ],
   "source": [
    "# Returns a random item from a list, tuple, or string.\n",
    "\n",
    "a = [1, 3, 5, 7] # list\n",
    "np.random.choice(a) "
   ]
  },
  {
   "cell_type": "markdown",
   "metadata": {},
   "source": [
    "#### bytes"
   ]
  },
  {
   "cell_type": "code",
   "execution_count": 9,
   "metadata": {},
   "outputs": [
    {
     "data": {
      "text/plain": [
       "b'j\\xae\\xba\\xcc\\xc5'"
      ]
     },
     "execution_count": 9,
     "metadata": {},
     "output_type": "execute_result"
    }
   ],
   "source": [
    "# Return random bytes. The main function is to generate cryptographically secure pseudo-random bytes.\n",
    "\n",
    "np.random.bytes(5)"
   ]
  },
  {
   "cell_type": "markdown",
   "metadata": {},
   "source": [
    "## 2 - Permutations\n",
    "\n",
    "#### Is a random ordering of a set of objects, that is, a permutation-valued random variable. This method takes a list as an input and return an object list of tuples that contain all permutation in a list form.\n",
    "https://www.geeksforgeeks.org/permutation-and-combination-in-python/ ."
   ]
  },
  {
   "cell_type": "markdown",
   "metadata": {},
   "source": [
    "#### arange"
   ]
  },
  {
   "cell_type": "code",
   "execution_count": 10,
   "metadata": {},
   "outputs": [],
   "source": [
    "# Generate a random permutation of array elements.\n",
    "\n",
    "el = np.arange(15) # element"
   ]
  },
  {
   "cell_type": "code",
   "execution_count": 11,
   "metadata": {},
   "outputs": [
    {
     "data": {
      "text/plain": [
       "array([ 0,  1,  2,  3,  4,  5,  6,  7,  8,  9, 10, 11, 12, 13, 14])"
      ]
     },
     "execution_count": 11,
     "metadata": {},
     "output_type": "execute_result"
    }
   ],
   "source": [
    "el"
   ]
  },
  {
   "cell_type": "markdown",
   "metadata": {},
   "source": [
    "#### shuffle"
   ]
  },
  {
   "cell_type": "code",
   "execution_count": 12,
   "metadata": {},
   "outputs": [],
   "source": [
    "np.random.shuffle(el) # function serves the purpose of reducing variance and making sure that models remain general and \n",
    "                      # overfit less."
   ]
  },
  {
   "cell_type": "code",
   "execution_count": 13,
   "metadata": {},
   "outputs": [
    {
     "data": {
      "text/plain": [
       "array([14,  8,  7, 10,  6,  2,  0,  1, 12,  5,  9, 11,  4,  3, 13])"
      ]
     },
     "execution_count": 13,
     "metadata": {},
     "output_type": "execute_result"
    }
   ],
   "source": [
    "el # print"
   ]
  },
  {
   "cell_type": "markdown",
   "metadata": {},
   "source": [
    "#### permutation"
   ]
  },
  {
   "cell_type": "code",
   "execution_count": 14,
   "metadata": {},
   "outputs": [
    {
     "data": {
      "text/plain": [
       "array([13, 11,  8,  7, 10,  6,  3,  9, 14, 12,  5,  1,  0,  4,  2])"
      ]
     },
     "execution_count": 14,
     "metadata": {},
     "output_type": "execute_result"
    }
   ],
   "source": [
    "#  Permute a sequence, or return a permuted range.\n",
    "\n",
    "np.random.permutation(15) # first optio"
   ]
  },
  {
   "cell_type": "code",
   "execution_count": 15,
   "metadata": {},
   "outputs": [
    {
     "data": {
      "text/plain": [
       "array([7, 2, 5, 9, 4])"
      ]
     },
     "execution_count": 15,
     "metadata": {},
     "output_type": "execute_result"
    }
   ],
   "source": [
    "np.random.permutation([2, 4, 5, 7, 9]) # second option"
   ]
  },
  {
   "cell_type": "markdown",
   "metadata": {},
   "source": [
    "## 3 - Distributions\n",
    "\n",
    "#### To get around the problem of writing a table for every distribution, we can define a function instead. The function allows us to define a probability distribution succinctly. So let's first define what a function is generally and then we'll move onto functions used for probability distributions (https://towardsdatascience.com/probability-concepts-explained-probability-distributions-introduction-part-3-4a5db81858dc). The NumPy random normal function generates a sample of numbers drawn from the normal distribution, otherwise called the Gaussian distribution (https://www.sharpsightlabs.com/blog/numpy-random-normal/) ."
   ]
  },
  {
   "cell_type": "markdown",
   "metadata": {},
   "source": [
    "#### beta"
   ]
  },
  {
   "cell_type": "code",
   "execution_count": 16,
   "metadata": {},
   "outputs": [
    {
     "data": {
      "text/plain": [
       "array([0.03887198, 0.28547752])"
      ]
     },
     "execution_count": 16,
     "metadata": {},
     "output_type": "execute_result"
    }
   ],
   "source": [
    "# Beta distribution is a family of continuous probability distributions defined on the interval [0, 1] parametrized \n",
    "# by two positive shape parameters, denoted by α and β, that appear as exponents of the random variable and control \n",
    "# the shape of the distribution.\n",
    "\n",
    "np.random.beta(1, 2, size=2)"
   ]
  },
  {
   "cell_type": "markdown",
   "metadata": {},
   "source": [
    "## binomial\n",
    "\n",
    "A binomial distribution can be thought of as simply the probability of a SUCCESS or FAILURE outcome in an experiment or survey that is repeated multiple times. The binomial is a type of distribution that has two possible outcomes (the prefix “bi” means two, or twice). \n",
    "https://www.statisticshowto.datasciencecentral.com/probability-and-statistics/binomial-theorem/binomial-distribution-formula/"
   ]
  },
  {
   "cell_type": "code",
   "execution_count": 17,
   "metadata": {},
   "outputs": [
    {
     "data": {
      "text/plain": [
       "0.262"
      ]
     },
     "execution_count": 17,
     "metadata": {},
     "output_type": "execute_result"
    }
   ],
   "source": [
    "# Discrete random variable that counts how often a particular event occurs in a fixed number of tries or trials.\n",
    "# There are conditions that you must be met:\n",
    " \n",
    "\n",
    "n = 15 # n = number of trials\n",
    "p = 0.5 # p = probability of success in each trial\n",
    "\n",
    "np.random.binomial(n, p, 1000) # 1000 is a variable size\n",
    "\n",
    "sum(np.random.binomial(2, 0.5, 1000) == 0)/1000. # 2 igual a number of option\n",
    "# 0.5 is a probability of sucess and 1000 numbers of trial"
   ]
  },
  {
   "cell_type": "markdown",
   "metadata": {},
   "source": [
    "When estimating the standard error of a proportion in a population by using a random sample, the normal distribution works\n",
    "well unless the product p*n <=5, where p = population proportion estimate, and n = number of samples, in which case the \n",
    "binomial distribution is used instead."
   ]
  },
  {
   "cell_type": "markdown",
   "metadata": {},
   "source": [
    "#### chisquare"
   ]
  },
  {
   "cell_type": "code",
   "execution_count": 18,
   "metadata": {},
   "outputs": [
    {
     "data": {
      "text/plain": [
       "array([0.41491129, 0.16338259, 1.90829021, 0.66999358, 4.40209924,\n",
       "       0.47167298])"
      ]
     },
     "execution_count": 18,
     "metadata": {},
     "output_type": "execute_result"
    }
   ],
   "source": [
    "# Is used for categorical features in a dataset. \n",
    "# We calculate Chi-square between each feature and the target and select the desired number of features with best \n",
    "# Chi-square scores.\n",
    "\n",
    "np.random.chisquare(3,6)"
   ]
  },
  {
   "cell_type": "markdown",
   "metadata": {},
   "source": [
    "#### dirichlet"
   ]
  },
  {
   "cell_type": "code",
   "execution_count": 19,
   "metadata": {},
   "outputs": [
    {
     "data": {
      "text/plain": [
       "array([0.56504967, 0.24713765, 0.18781268])"
      ]
     },
     "execution_count": 19,
     "metadata": {},
     "output_type": "execute_result"
    }
   ],
   "source": [
    "# Draw samples from the Dirichlet distribution.\n",
    "\n",
    "np.random.dirichlet((10, 5, 3)).transpose() "
   ]
  },
  {
   "cell_type": "markdown",
   "metadata": {},
   "source": [
    "#### exponential"
   ]
  },
  {
   "cell_type": "code",
   "execution_count": 20,
   "metadata": {},
   "outputs": [
    {
     "data": {
      "text/plain": [
       "array([1.79706891, 0.5492242 ])"
      ]
     },
     "execution_count": 20,
     "metadata": {},
     "output_type": "execute_result"
    }
   ],
   "source": [
    "# Draw samples from an exponential distribution.\n",
    "\n",
    "np.random.exponential(3.0, size=2)"
   ]
  },
  {
   "cell_type": "markdown",
   "metadata": {},
   "source": [
    "#### f"
   ]
  },
  {
   "cell_type": "code",
   "execution_count": 21,
   "metadata": {},
   "outputs": [
    {
     "data": {
      "text/plain": [
       "array([0.18331271, 1.94192728, 0.16353923, 0.05260602, 0.30841017,\n",
       "       0.7156334 , 2.01764077, 0.71014049, 1.45759909, 0.41637979,\n",
       "       1.06566154, 0.19679197, 0.92880198, 0.31187869, 0.60268353,\n",
       "       1.47964195, 5.72653251, 3.5710441 , 2.54984905, 1.72551618])"
      ]
     },
     "execution_count": 21,
     "metadata": {},
     "output_type": "execute_result"
    }
   ],
   "source": [
    "# Samples are drawn from an F distribution with specified parameters:\n",
    "# dfnum (degrees of freedom in numerator) and\n",
    "# dfden (degrees of freedom in denominator).\n",
    "\n",
    "dfnum = 3\n",
    "dfden = 10\n",
    "np.random.f(dfnum, dfden, 20)"
   ]
  },
  {
   "cell_type": "markdown",
   "metadata": {},
   "source": [
    "## gamma"
   ]
  },
  {
   "cell_type": "markdown",
   "metadata": {},
   "source": [
    "Draw samples from a Gamma distribution.\n",
    "Samples are drawn from a Gamma distribution with specified parameters, shape (sometimes designated “k”) and scale (sometimes designated “theta”), where both parameters are > 0."
   ]
  },
  {
   "cell_type": "code",
   "execution_count": 22,
   "metadata": {},
   "outputs": [
    {
     "data": {
      "text/plain": [
       "<Figure size 640x480 with 1 Axes>"
      ]
     },
     "metadata": {},
     "output_type": "display_data"
    }
   ],
   "source": [
    "# Samples are drawn from a Gamma distribution with specified parameters:\n",
    "\n",
    "shape = 2.0 # The shape of the gamma distribution. Should be greater than zero.\n",
    "scale = 2.0 # The scale of the gamma distribution. Should be greater than zero. Default is equal to 1.\n",
    "\n",
    "gamma = np.random.gamma(shape, scale, 1000) # 1000 is a variable size\n",
    "\n",
    "import scipy.special as sps\n",
    "import matplotlib.pyplot as plt\n",
    "\n",
    "count, bins, ignored = plt.hist(gamma, 50, density=True)\n",
    "y = bins**(shape-1)*(np.exp(-bins/scale) /\n",
    "                     (sps.gamma(shape)*scale**shape))\n",
    "plt.plot(bins, y, linewidth=2, color='r')\n",
    "plt.show()"
   ]
  },
  {
   "cell_type": "markdown",
   "metadata": {},
   "source": [
    "The Gamma distribution is often used to model the times to failure of electronic components, and arises naturally in processes for which the waiting times between Poisson distributed events are relevant."
   ]
  },
  {
   "cell_type": "markdown",
   "metadata": {},
   "source": [
    "#### geometric"
   ]
  },
  {
   "cell_type": "code",
   "execution_count": 23,
   "metadata": {},
   "outputs": [
    {
     "data": {
      "text/plain": [
       "array([3, 2, 6, 3, 7, 2, 1, 1, 1, 5])"
      ]
     },
     "execution_count": 23,
     "metadata": {},
     "output_type": "execute_result"
    }
   ],
   "source": [
    "# Draw samples from the geometric distribution.\n",
    "\n",
    "np.random.geometric(p=0.35, size=10) # p probability of successful"
   ]
  },
  {
   "cell_type": "markdown",
   "metadata": {},
   "source": [
    "#### gumbel"
   ]
  },
  {
   "cell_type": "code",
   "execution_count": 24,
   "metadata": {},
   "outputs": [
    {
     "data": {
      "image/png": "[encoded data removed]",
      "text/plain": [
       "<Figure size 432x288 with 1 Axes>"
      ]
     },
     "metadata": {
      "needs_background": "light"
     },
     "output_type": "display_data"
    }
   ],
   "source": [
    "# Draw samples from a Gumbel distribution.\n",
    "\n",
    "loc = 0\n",
    "sca = 0.1\n",
    "gumbel = np.random.gumbel(loc, sca, 100)\n",
    "\n",
    "import matplotlib.pyplot as plt\n",
    "plt.hist(gumbel)\n",
    "plt.show()"
   ]
  },
  {
   "cell_type": "markdown",
   "metadata": {},
   "source": [
    "#### hypergeometric"
   ]
  },
  {
   "cell_type": "code",
   "execution_count": 25,
   "metadata": {},
   "outputs": [
    {
     "data": {
      "text/plain": [
       "array([8, 8, 8, 9, 9, 9, 9, 9, 8, 9, 9, 9, 8, 8, 8, 9, 8, 8, 8, 8, 8, 8,\n",
       "       8, 9, 9, 9, 8, 8, 9, 8, 8, 8, 9, 9, 8, 8, 9, 9, 8, 8, 8, 8, 9, 8,\n",
       "       8, 8, 8, 8, 9, 9, 8, 8, 8, 8, 9, 8, 9, 8, 8, 9, 8, 8, 9, 8, 8, 8,\n",
       "       9, 9, 8, 8, 8, 8, 8, 8, 9, 9, 8, 9, 9, 8, 8, 9, 8, 8, 8, 9, 8, 9,\n",
       "       9, 8, 8, 9, 9, 9, 9, 8, 8, 8, 8, 8])"
      ]
     },
     "execution_count": 25,
     "metadata": {},
     "output_type": "execute_result"
    }
   ],
   "source": [
    "# Draw samples from a Hypergeometric distribution.\n",
    "# ngood (ways to make a good selection),\n",
    "# nbad (ways to make a bad selection), and\n",
    "# nsample = number of items sampled\n",
    "\n",
    "ngood = 10\n",
    "nbad = 2\n",
    "nsamp = 10\n",
    "np.random.hypergeometric(ngood, nbad, nsamp, 100)"
   ]
  },
  {
   "cell_type": "markdown",
   "metadata": {},
   "source": [
    "#### laplace"
   ]
  },
  {
   "cell_type": "code",
   "execution_count": 26,
   "metadata": {},
   "outputs": [
    {
     "data": {
      "image/png": "[encoded data removed]",
      "text/plain": [
       "<Figure size 432x288 with 1 Axes>"
      ]
     },
     "metadata": {
      "needs_background": "light"
     },
     "output_type": "display_data"
    }
   ],
   "source": [
    "# Draw samples from the Laplace or double exponential distribution with specified location (or mean) and scale (decay).\n",
    "\n",
    "loc = 0.\n",
    "scale = 2.\n",
    "Laplace = np.random.laplace(loc, scale, 1000)\n",
    "plt.hist(Laplace)\n",
    "plt.show()"
   ]
  },
  {
   "cell_type": "markdown",
   "metadata": {},
   "source": [
    "#### logistic"
   ]
  },
  {
   "cell_type": "code",
   "execution_count": 27,
   "metadata": {},
   "outputs": [
    {
     "name": "stdout",
     "output_type": "stream",
     "text": [
      "[ 9.36220615 10.67136807 10.49115041 ... 10.22475093 11.83759815\n",
      "  4.88698011]\n"
     ]
    }
   ],
   "source": [
    "# Samples are drawn from a logistic distribution with specified parameters, loc (location or mean, also median), \n",
    "# and scale (>0).\n",
    "\n",
    "loc = 10\n",
    "scale = 1\n",
    "log = np.random.logistic(loc, scale, 10000)\n",
    "print(log)"
   ]
  },
  {
   "cell_type": "markdown",
   "metadata": {},
   "source": [
    "## lognormal"
   ]
  },
  {
   "cell_type": "markdown",
   "metadata": {},
   "source": [
    "In probability theory, a log-normal (or lognormal) distribution is a continuous probability distribution of a random variable whose logarithm is normally distributed. Thus, if the random variable X is log-normally distributed, then Y = ln(X) has a normal distribution. Likewise, if Y has a normal distribution, then the exponential function of Y, X = exp(Y), has a log-normal distribution. A random variable which is log-normally distributed takes only positive real values. It is a convenient and useful model for measurements in exact and engineering sciences as well as medicine, economics and other fields, e.g. for energies, concentrations, lengths, (financial) returns and other amounts."
   ]
  },
  {
   "cell_type": "code",
   "execution_count": 28,
   "metadata": {},
   "outputs": [
    {
     "data": {
      "image/png": "[encoded data removed]",
      "text/plain": [
       "<Figure size 432x288 with 1 Axes>"
      ]
     },
     "metadata": {
      "needs_background": "light"
     },
     "output_type": "display_data"
    }
   ],
   "source": [
    "# Draw samples from a log-normal distribution with specified mean, standard deviation, and array shape\n",
    "\n",
    "mean = 4. # Mean value of the underlying normal distribution. Default is 0.\n",
    "sigma = 1. # Standard deviation of the underlying normal distribution. Should be greater than zero. Default is 1.\n",
    "\n",
    "lognormal = np.random.lognormal(mean, sigma, 1000) # 1000 is a variable of size\n",
    "\n",
    "import matplotlib.pyplot as plt\n",
    "count, bins, ignored = plt.hist(lognormal, 100, density=True, align='mid')\n",
    "\n",
    "x = np.linspace(min(bins), max(bins), 10000)\n",
    "pdf = (np.exp(-(np.log(x) - mean)**2 / (2 * sigma**2))\n",
    "       / (x * sigma * np.sqrt(2 * np.pi)))\n",
    "\n",
    "plt.plot(x, pdf, linewidth=3, color='r')\n",
    "plt.axis('tight')\n",
    "plt.show()\n"
   ]
  },
  {
   "cell_type": "markdown",
   "metadata": {},
   "source": [
    "The most commonly used distribution in science is the normal distribution. The familiar “bell curve” models many natural phenomenon, from the simple (weights or heights) to the more complex. Many more phenomenon can be modeled with the lognormal distribution, such as the length of latent periods of infectious disease or species abundance such as:\n",
    "    - Milk production by cows.\n",
    "    - Lives of industrial units with failure modes that are characterized by fatigue-stress.\n",
    "    - Amounts of rainfall.\n",
    "    - Size distributions of rainfall droplets.\n",
    "    - The volume of gas in a petroleum reserve."
   ]
  },
  {
   "cell_type": "markdown",
   "metadata": {},
   "source": [
    "#### logseries"
   ]
  },
  {
   "cell_type": "code",
   "execution_count": 29,
   "metadata": {},
   "outputs": [
    {
     "data": {
      "text/plain": [
       "array([27,  7, 11,  4,  2,  1,  1,  5,  8,  6,  2, 20,  1,  4])"
      ]
     },
     "execution_count": 29,
     "metadata": {},
     "output_type": "execute_result"
    }
   ],
   "source": [
    "# We can get the log series in the form of an array by using np.logseries() method.\n",
    "\n",
    "np.random.logseries(0.9, 14)"
   ]
  },
  {
   "cell_type": "markdown",
   "metadata": {},
   "source": [
    "#### multinomial"
   ]
  },
  {
   "cell_type": "code",
   "execution_count": 30,
   "metadata": {},
   "outputs": [
    {
     "data": {
      "text/plain": [
       "array([[1, 2, 6, 3],\n",
       "       [2, 0, 5, 5],\n",
       "       [2, 3, 3, 4]])"
      ]
     },
     "execution_count": 30,
     "metadata": {},
     "output_type": "execute_result"
    }
   ],
   "source": [
    "# People can get the array of multinomial distribution.\n",
    "\n",
    "np.random.multinomial(12, [0.2, 0.21, 0.321, 0.4321], 3) "
   ]
  },
  {
   "cell_type": "markdown",
   "metadata": {},
   "source": [
    "#### multivariate_normal"
   ]
  },
  {
   "cell_type": "code",
   "execution_count": 31,
   "metadata": {},
   "outputs": [
    {
     "data": {
      "text/plain": [
       "array([[[ 0.43043124,  1.83969354],\n",
       "        [ 0.91726991,  1.64771635],\n",
       "        [ 1.03322651,  2.19925255]],\n",
       "\n",
       "       [[ 0.45787207,  1.32097979],\n",
       "        [-0.28492241,  4.14774498],\n",
       "        [-0.30435153,  2.44451491]],\n",
       "\n",
       "       [[ 0.62669247,  2.26031816],\n",
       "        [ 1.49729756,  0.05042769],\n",
       "        [-0.67748844,  3.56760038]]])"
      ]
     },
     "execution_count": 31,
     "metadata": {},
     "output_type": "execute_result"
    }
   ],
   "source": [
    "# Draw random samples from a multivariate normal distribution.\n",
    "\n",
    "mean = (1, 2)\n",
    "cov = [[1,0], [0,1]]\n",
    "np.random.multivariate_normal(mean, cov, (3,3))"
   ]
  },
  {
   "cell_type": "markdown",
   "metadata": {},
   "source": [
    "#### negative_binomial"
   ]
  },
  {
   "cell_type": "code",
   "execution_count": 32,
   "metadata": {},
   "outputs": [
    {
     "data": {
      "text/plain": [
       "array([ 6,  1,  0,  0,  3,  3, 40,  0,  0, 18])"
      ]
     },
     "execution_count": 32,
     "metadata": {},
     "output_type": "execute_result"
    }
   ],
   "source": [
    "# Samples are drawn from a negative binomial distribution with specified parameters, n trials and p probability of success \n",
    "# where n is an integer > 0 and p is in the interval [0, 1].\n",
    "\n",
    "np.random.negative_binomial(1, 0.1, 10)"
   ]
  },
  {
   "cell_type": "markdown",
   "metadata": {},
   "source": [
    "#### noncentral_chisquare"
   ]
  },
  {
   "cell_type": "code",
   "execution_count": 33,
   "metadata": {},
   "outputs": [
    {
     "data": {
      "text/plain": [
       "(array([11., 15., 16., 13., 12., 13.,  9.,  8.,  2.,  1.]),\n",
       " array([ 8.11202869, 12.20839571, 16.30476274, 20.40112976, 24.49749679,\n",
       "        28.59386381, 32.69023084, 36.78659786, 40.88296489, 44.97933191,\n",
       "        49.07569894]),\n",
       " <a list of 10 Patch objects>)"
      ]
     },
     "execution_count": 33,
     "metadata": {},
     "output_type": "execute_result"
    },
    {
     "data": {
      "image/png": "[encoded data removed]",
      "text/plain": [
       "<Figure size 432x288 with 1 Axes>"
      ]
     },
     "metadata": {
      "needs_background": "light"
     },
     "output_type": "display_data"
    }
   ],
   "source": [
    "# Draw samples from a noncentral chi-square distribution.\n",
    "\n",
    "non = np.random.noncentral_chisquare(3, 20, 100)\n",
    "plt.hist(non)"
   ]
  },
  {
   "cell_type": "markdown",
   "metadata": {},
   "source": [
    "#### noncentral_f"
   ]
  },
  {
   "cell_type": "code",
   "execution_count": 34,
   "metadata": {},
   "outputs": [
    {
     "name": "stderr",
     "output_type": "stream",
     "text": [
      "C:\\Users\\biolo\\Anaconda3\\lib\\site-packages\\matplotlib\\axes\\_axes.py:6521: MatplotlibDeprecationWarning: \n",
      "The 'normed' kwarg was deprecated in Matplotlib 2.1 and will be removed in 3.1. Use 'density' instead.\n",
      "  alternative=\"'density'\", removal=\"3.1\")\n"
     ]
    },
    {
     "data": {
      "image/png": "[encoded data removed]",
      "text/plain": [
       "<Figure size 432x288 with 1 Axes>"
      ]
     },
     "metadata": {
      "needs_background": "light"
     },
     "output_type": "display_data"
    }
   ],
   "source": [
    "# Draw samples from the noncentral F distribution.\n",
    "\n",
    "nonc = 4 # non centrality parameter.\n",
    "dfnum = 5\n",
    "dfden = 20\n",
    "f = np.random.noncentral_f(dfnum, dfden, nonc, 100000)\n",
    "plt.hist(f, bins=50, normed=True)\n",
    "plt.show()"
   ]
  },
  {
   "cell_type": "markdown",
   "metadata": {},
   "source": [
    "## normal"
   ]
  },
  {
   "cell_type": "markdown",
   "metadata": {},
   "source": [
    "In probability theory, the normal (or Gaussian or Gauss or Laplace–Gauss) distribution is a very common continuous probability distribution. Normal distributions are important in statistics and are often used in the natural and social sciences to represent real-valued random variables whose distributions are not known. https://en.wikipedia.org/wiki/Normal_distribution\n",
    "A normal distribution is a distribution that is solely dependent on two parameters of the data set: its mean and the standard deviation of the sample.\n",
    "\n",
    "    1 - Mean - this is the average value of all the points in the sample.\n",
    "    2 - Standard Deviation - this indicates how much the data set deviates from the mean of the sample."
   ]
  },
  {
   "cell_type": "code",
   "execution_count": 35,
   "metadata": {
    "scrolled": true
   },
   "outputs": [
    {
     "data": {
      "image/png": "[encoded data removed]",
      "text/plain": [
       "<Figure size 432x288 with 1 Axes>"
      ]
     },
     "metadata": {
      "needs_background": "light"
     },
     "output_type": "display_data"
    }
   ],
   "source": [
    "import matplotlib.pyplot as plt # we have to import matplotlib if you \n",
    "\n",
    "m = 5 # Mean\n",
    "sigma = 2.4 # Standard Deviation\n",
    "nor = np.random.normal(m, sigma, 1000) # 1000 is the size( numbers of elements)\n",
    "abs(m - np.mean(nor)) < 0.01\n",
    "abs(sigma - np.std(nor, ddof=1)) < 0.01\n",
    "\n",
    "count, bins, ignored = plt.hist(nor, 30, density=True)\n",
    "plt.plot(bins, 1/(sigma * np.sqrt(2 * np.pi)) *\n",
    "               np.exp( - (bins - m)**2 / (2 * sigma**2) ),\n",
    "         linewidth=2, color='r')\n",
    "\n",
    "plt.show()"
   ]
  },
  {
   "cell_type": "markdown",
   "metadata": {},
   "source": [
    "The function has its peak at the mean, and its \"spread\" increases with the standard deviation. "
   ]
  },
  {
   "cell_type": "markdown",
   "metadata": {},
   "source": [
    "#### pareto"
   ]
  },
  {
   "cell_type": "code",
   "execution_count": 36,
   "metadata": {
    "scrolled": true
   },
   "outputs": [
    {
     "data": {
      "image/png": "[encoded data removed]",
      "text/plain": [
       "<Figure size 432x288 with 1 Axes>"
      ]
     },
     "metadata": {
      "needs_background": "light"
     },
     "output_type": "display_data"
    }
   ],
   "source": [
    "# The classical Pareto distribution can be obtained from the Lomax distribution by adding 1 and multiplying by the\n",
    "# scale parameter m. \n",
    "\n",
    "a = 5.0 # Shape of the distribution. Must be positive.\n",
    "m = 2.0 # mode\n",
    "\n",
    "par = (np.random.pareto(a, 1000) + 1) * m\n",
    "\n",
    "plt.plot(par)\n",
    "plt.show()"
   ]
  },
  {
   "cell_type": "markdown",
   "metadata": {},
   "source": [
    "#### poisson"
   ]
  },
  {
   "cell_type": "code",
   "execution_count": 37,
   "metadata": {},
   "outputs": [
    {
     "data": {
      "image/png": "[encoded data removed]",
      "text/plain": [
       "<Figure size 432x288 with 1 Axes>"
      ]
     },
     "metadata": {
      "needs_background": "light"
     },
     "output_type": "display_data"
    }
   ],
   "source": [
    "# The Poisson distribution is the limit of the binomial distribution for large N.\n",
    "\n",
    "Iam = 11 # Expectation of interval, must be >= 0.\n",
    "\n",
    "poi = np.random.poisson(Iam, 10000) # 10000 is the size.\n",
    "plt.hist(poi)\n",
    "plt.show()"
   ]
  },
  {
   "cell_type": "markdown",
   "metadata": {},
   "source": [
    "#### power"
   ]
  },
  {
   "cell_type": "code",
   "execution_count": 38,
   "metadata": {},
   "outputs": [
    {
     "data": {
      "image/png": "[encoded data removed]",
      "text/plain": [
       "<Figure size 432x288 with 1 Axes>"
      ]
     },
     "metadata": {
      "needs_background": "light"
     },
     "output_type": "display_data"
    }
   ],
   "source": [
    "# Power function distribution.\n",
    "\n",
    "a = 5. # shape. Use float numbers\n",
    "samples = 1000\n",
    "s = np.random.power(a, samples)\n",
    "plt.hist(s)\n",
    "plt.show()"
   ]
  },
  {
   "cell_type": "markdown",
   "metadata": {},
   "source": [
    "#### rayleigh"
   ]
  },
  {
   "cell_type": "code",
   "execution_count": 39,
   "metadata": {},
   "outputs": [
    {
     "data": {
      "image/png": "[encoded data removed]",
      "text/plain": [
       "<Figure size 432x288 with 1 Axes>"
      ]
     },
     "metadata": {
      "needs_background": "light"
     },
     "output_type": "display_data"
    }
   ],
   "source": [
    "# Delivery a Rayleigh distribution\n",
    "\n",
    "ray = 3 # Scale, also equals the mode. Must be non-negative. Default is 1.\n",
    "# 100000 is the size\n",
    "\n",
    "values = np.random.rayleigh(3, 100000)\n",
    "plt.hist(values)\n",
    "plt.show()"
   ]
  },
  {
   "cell_type": "markdown",
   "metadata": {},
   "source": [
    "#### standard_cauchy"
   ]
  },
  {
   "cell_type": "code",
   "execution_count": 40,
   "metadata": {},
   "outputs": [
    {
     "data": {
      "image/png": "[encoded data removed]",
      "text/plain": [
       "<Figure size 432x288 with 1 Axes>"
      ]
     },
     "metadata": {
      "needs_background": "light"
     },
     "output_type": "display_data"
    }
   ],
   "source": [
    "# Delivery a standard Cauchy distribution.\n",
    "\n",
    "s = np.random.standard_cauchy(1000000) # size.\n",
    "s = s[(s>-25) & (s<25)]  # truncate distribution so it plots well\n",
    "plt.hist(s, bins=100)\n",
    "plt.show()"
   ]
  },
  {
   "cell_type": "markdown",
   "metadata": {},
   "source": [
    "#### standard_exponential"
   ]
  },
  {
   "cell_type": "code",
   "execution_count": 41,
   "metadata": {},
   "outputs": [
    {
     "data": {
      "text/plain": [
       "array([[0.60768411, 0.04935942, 0.43266774, 1.0586664 , 1.54817328,\n",
       "        0.78248636, 0.16771442, 0.08344149, 0.30923386, 0.60097105],\n",
       "       [1.57432226, 0.30599823, 3.8133649 , 2.44886027, 0.42790759,\n",
       "        1.1810988 , 1.19075071, 0.29913612, 0.72805715, 0.4135363 ],\n",
       "       [0.182043  , 0.8223706 , 0.38248681, 1.56593124, 2.44929442,\n",
       "        0.25041678, 1.45188107, 0.61120545, 2.84576511, 0.54057722]])"
      ]
     },
     "execution_count": 41,
     "metadata": {},
     "output_type": "execute_result"
    }
   ],
   "source": [
    "# standard_exponential is identical to the exponential distribution with a scale parameter of 1.\n",
    "\n",
    "np.random.standard_exponential((3, 10)) # 3 row and 10 column"
   ]
  },
  {
   "cell_type": "markdown",
   "metadata": {},
   "source": [
    "#### standard_gamma"
   ]
  },
  {
   "cell_type": "code",
   "execution_count": 42,
   "metadata": {},
   "outputs": [
    {
     "data": {
      "text/plain": [
       "array([3.00282465, 0.27621616, 1.15856011, ..., 3.59488641, 2.80788669,\n",
       "       0.57714023])"
      ]
     },
     "execution_count": 42,
     "metadata": {},
     "output_type": "execute_result"
    }
   ],
   "source": [
    "# Samples are drawn from a Gamma distribution with specified parameters, shape (sometimes designated “k”) and scale=1.\n",
    "\n",
    "np.random.standard_gamma(2, 1000000) # 2 is a shape"
   ]
  },
  {
   "cell_type": "markdown",
   "metadata": {},
   "source": [
    "#### standard_normal"
   ]
  },
  {
   "cell_type": "code",
   "execution_count": 43,
   "metadata": {},
   "outputs": [
    {
     "data": {
      "text/plain": [
       "array([-1.48489732,  2.17767364, -0.43562812, ...,  0.31183168,\n",
       "       -0.6482177 , -0.19167712])"
      ]
     },
     "execution_count": 43,
     "metadata": {},
     "output_type": "execute_result"
    }
   ],
   "source": [
    "# Draw samples from a standard Normal distribution.\n",
    "\n",
    "np.random.standard_normal(8000)"
   ]
  },
  {
   "cell_type": "markdown",
   "metadata": {},
   "source": [
    "#### standard_t"
   ]
  },
  {
   "cell_type": "code",
   "execution_count": 44,
   "metadata": {},
   "outputs": [
    {
     "data": {
      "text/plain": [
       "array([-1.36698003,  0.25673565, -1.72732468, -0.20454074,  0.15476886,\n",
       "       -0.12267205,  0.59946993, -1.30757567,  0.9679261 , -0.37132342])"
      ]
     },
     "execution_count": 44,
     "metadata": {},
     "output_type": "execute_result"
    }
   ],
   "source": [
    "# Draw samples from a standard Student’s t distribution with df degrees of freedom.\n",
    "\n",
    "std = 10 # Degrees of freedom, must be > 0.\n",
    "np.random.standard_t(std, size=10)"
   ]
  },
  {
   "cell_type": "markdown",
   "metadata": {},
   "source": [
    "#### triangular"
   ]
  },
  {
   "cell_type": "code",
   "execution_count": 45,
   "metadata": {},
   "outputs": [
    {
     "data": {
      "image/png": "[encoded data removed]",
      "text/plain": [
       "<Figure size 432x288 with 1 Axes>"
      ]
     },
     "metadata": {
      "needs_background": "light"
     },
     "output_type": "display_data"
    }
   ],
   "source": [
    "# The triangular distribution is a continuous probability distribution with lower limit left, peak at mode, and upper \n",
    "# limit right.\n",
    "tri = np.random.triangular(-3, 0, 10, 10000)\n",
    "plt.hist(tri)\n",
    "plt.show()"
   ]
  },
  {
   "cell_type": "markdown",
   "metadata": {},
   "source": [
    "## uniform"
   ]
  },
  {
   "cell_type": "markdown",
   "metadata": {},
   "source": [
    "Uniform() is a method specified in random library in Python the upper limit of the random number required to generate. Returns : Returns the generated floating point random number between lower limit and upper limit. Lower boundary of the output interval. All values generated will be greater than or equal to low. The default value is 0. Upper boundary of the output interval. All values generated will be less than high. The default value is 1.0."
   ]
  },
  {
   "cell_type": "code",
   "execution_count": 46,
   "metadata": {},
   "outputs": [
    {
     "data": {
      "image/png": "[encoded data removed]",
      "text/plain": [
       "<Figure size 432x288 with 1 Axes>"
      ]
     },
     "metadata": {
      "needs_background": "light"
     },
     "output_type": "display_data"
    }
   ],
   "source": [
    "# Delivery a uniform distribution\n",
    "\n",
    "unif = np.random.uniform(-1,0,1000) # low: -1 and high: 0 ; 1000 is the size\n",
    "np.all(unif >= -1)\n",
    "np.all(unif < 0)\n",
    "\n",
    "count, bins, ignored = plt.hist(unif, 15, normed=True)\n",
    "plt.plot(bins, np.ones_like(bins), linewidth=2, color='r')\n",
    "plt.show()"
   ]
  },
  {
   "cell_type": "markdown",
   "metadata": {},
   "source": [
    "When high == low, values of low will be returned. If high < low, the results are officially undefined and may eventually raise an error, i.e. do not rely on this function to behave when passed arguments satisfying that inequality condition."
   ]
  },
  {
   "cell_type": "markdown",
   "metadata": {},
   "source": [
    "#### vonmises"
   ]
  },
  {
   "cell_type": "code",
   "execution_count": 47,
   "metadata": {},
   "outputs": [
    {
     "data": {
      "image/png": "[encoded data removed]",
      "text/plain": [
       "<Figure size 432x288 with 1 Axes>"
      ]
     },
     "metadata": {
      "needs_background": "light"
     },
     "output_type": "display_data"
    }
   ],
   "source": [
    "# Samples are drawn from a von Mises distribution with specified mode (mu) and dispersion (kappa), on the \n",
    "# interval [-pi, pi].\n",
    "\n",
    "mu = 0.0 \n",
    "kappa = 4.0\n",
    "vom = np.random.vonmises(mu, kappa, 1000)\n",
    "\n",
    "from scipy.special import i0\n",
    "plt.hist(vom, 50, density=True)\n",
    "x = np.linspace(-np.pi, np.pi, num=51)\n",
    "y = np.exp(kappa*np.cos(x-mu))/(2*np.pi*i0(kappa))\n",
    "plt.plot(x, y, linewidth=2, color='r')\n",
    "plt.show()"
   ]
  },
  {
   "cell_type": "markdown",
   "metadata": {},
   "source": [
    "#### wald"
   ]
  },
  {
   "cell_type": "code",
   "execution_count": 48,
   "metadata": {},
   "outputs": [
    {
     "data": {
      "image/png": "[encoded data removed]",
      "text/plain": [
       "<Figure size 432x288 with 1 Axes>"
      ]
     },
     "metadata": {
      "needs_background": "light"
     },
     "output_type": "display_data"
    }
   ],
   "source": [
    "# Draw samples from a Wald, or inverse Gaussian, distribution.\n",
    "\n",
    "mean = 3 # Distribution mean, must be > 0.\n",
    "scale = 2 # Scale parameter, must be > 0.\n",
    "# 100000 is the number of samples are draw.\n",
    "\n",
    "h = plt.hist(np.random.wald(mean, scale, 100000), bins=200, normed=True)\n",
    "plt.show()"
   ]
  },
  {
   "cell_type": "markdown",
   "metadata": {},
   "source": [
    "#### weibull"
   ]
  },
  {
   "cell_type": "code",
   "execution_count": 49,
   "metadata": {},
   "outputs": [
    {
     "data": {
      "text/plain": [
       "array([0.80708736, 1.09121702, 0.82404757, 0.8988629 , 0.78258189,\n",
       "       0.86668973, 0.8273532 , 0.65043105, 0.72639225, 1.22089643])"
      ]
     },
     "execution_count": 49,
     "metadata": {},
     "output_type": "execute_result"
    }
   ],
   "source": [
    "# Draw samples from a 1-parameter Weibull distribution with the given shape parameter a.\n",
    "\n",
    "a = 5 # Shape parameter of the distribution. Must be nonnegative.\n",
    "b = 10 # Size\n",
    "np.random.weibull(5, 10) "
   ]
  },
  {
   "cell_type": "markdown",
   "metadata": {},
   "source": [
    "#### zipf"
   ]
  },
  {
   "cell_type": "code",
   "execution_count": 50,
   "metadata": {},
   "outputs": [
    {
     "data": {
      "image/png": "[encoded data removed]",
      "text/plain": [
       "<Figure size 432x288 with 1 Axes>"
      ]
     },
     "metadata": {
      "needs_background": "light"
     },
     "output_type": "display_data"
    }
   ],
   "source": [
    "# Samples are drawn from a Zipf distribution with specified parameter a > 1.\n",
    "\n",
    "a = 2. # parameter\n",
    "s = np.random.zipf(a, 1000) \n",
    "from scipy import special\n",
    "count, bins, ignored = plt.hist(s[s<50], 50, normed=True)\n",
    "x = np.arange(1., 50.)\n",
    "y = x**(-a) / special.zetac(a)\n",
    "plt.plot(x, y/max(y), linewidth=2, color='r')\n",
    "plt.show()"
   ]
  },
  {
   "cell_type": "markdown",
   "metadata": {},
   "source": [
    "## 4 - Generator\n",
    "\n",
    "####  Is a device that generates a sequence of numbers or symbols that cannot be reasonably predicted better than by a random chance.\n",
    "https://en.wikipedia.org/wiki/Random_number_generation."
   ]
  },
  {
   "cell_type": "markdown",
   "metadata": {},
   "source": [
    "#### RandomState"
   ]
  },
  {
   "cell_type": "markdown",
   "metadata": {},
   "source": [
    "RandomState exposes a number of methods for generating random numbers drawn from a variety of probability distributions.\n"
   ]
  },
  {
   "cell_type": "markdown",
   "metadata": {},
   "source": [
    "## seed"
   ]
  },
  {
   "cell_type": "markdown",
   "metadata": {},
   "source": [
    "The seed method is used to initialize the pseudorandom number generator in Python. The random module uses the seed value as a base to generate a random number. if seed value is not present it takes system current time. if you provide same seed value before generating random data it will produce the same data. "
   ]
  },
  {
   "cell_type": "code",
   "execution_count": 51,
   "metadata": {},
   "outputs": [
    {
     "data": {
      "text/plain": [
       "array([0.64667574, 0.45892852, 0.25088143, 0.52157763, 0.71160371,\n",
       "       0.07646175, 0.82114458, 0.01277518, 0.5409421 , 0.82660404])"
      ]
     },
     "execution_count": 51,
     "metadata": {},
     "output_type": "execute_result"
    }
   ],
   "source": [
    "# Seed function is used to save the state of random function.\n",
    "\n",
    "np.random.rand(10)"
   ]
  },
  {
   "cell_type": "code",
   "execution_count": 52,
   "metadata": {},
   "outputs": [
    {
     "data": {
      "text/plain": [
       "array([0.5488135 , 0.71518937, 0.60276338, 0.54488318, 0.4236548 ,\n",
       "       0.64589411, 0.43758721, 0.891773  , 0.96366276, 0.38344152])"
      ]
     },
     "execution_count": 52,
     "metadata": {},
     "output_type": "execute_result"
    }
   ],
   "source": [
    "np.random.seed(0)\n",
    "\n",
    "np.random.rand(10)"
   ]
  },
  {
   "cell_type": "markdown",
   "metadata": {},
   "source": [
    "After you run a code after use 'seed function' the number generated does the same every time. "
   ]
  },
  {
   "cell_type": "markdown",
   "metadata": {},
   "source": [
    "#### set_state and get_state"
   ]
  },
  {
   "cell_type": "markdown",
   "metadata": {},
   "source": [
    "\"Set_state\" and \"Get_state\" are not needed to work with any of the random distributions in NumPy. If the internal state is manually altered, the user should know exactly what he/she is doing"
   ]
  },
  {
   "cell_type": "markdown",
   "metadata": {},
   "source": [
    "## Conclusion"
   ]
  },
  {
   "cell_type": "markdown",
   "metadata": {},
   "source": [
    "I made a brief of NumPy and NumPy.random as part of my project of Programming for Data Analysis from Galway-Mayo Institute of Technology - GMIT. \n",
    "I describe the subset of Numpy.random such as: Simple random data; Permutations; Distributions; Random generator.\n",
    "In Numpy.random Distribution I emphasize 5 function as binomial, gamma, lognormal, normal and uniform; and in Random generation I emphasize in seed function.\n",
    "During my project I saw the importance of Numpy.random and how easily to use it for science, statistics, finance and machine learning.\n"
   ]
  },
  {
   "cell_type": "markdown",
   "metadata": {},
   "source": [
    "## Reference"
   ]
  },
  {
   "cell_type": "markdown",
   "metadata": {},
   "source": [
    "- https://docs.scipy.org/doc/numpy-1.14.0/reference/routines.random.html\n",
    "- https://www.geeksforgeeks.org/\n",
    "- https://en.wikipedia.org/wiki/Random_number_generation\n",
    "- https://www.sharpsightlabs.com/blog/numpy-random-normal/\n",
    "- https://www.geeksforgeeks.org/permutation-and-combination-in-python/\n",
    "- https://www.investopedia.com/terms/s/simple-random-sample.asp\n",
    "- https://subscription.packtpub.com/book/big_data_and_business_intelligence/9781785285110/2/ch02lvl1sec16/numpy-random-numbers\n",
    "- https://docs.anaconda.com/anaconda/\n",
    "- https://www.anaconda.com/distribution/\n",
    "- https://en.wikipedia.org/wiki/NumPy"
   ]
  }
 ],
 "metadata": {
  "kernelspec": {
   "display_name": "Python 3",
   "language": "python",
   "name": "python3"
  },
  "language_info": {
   "codemirror_mode": {
    "name": "ipython",
    "version": 3
   },
   "file_extension": ".py",
   "mimetype": "text/x-python",
   "name": "python",
   "nbconvert_exporter": "python",
   "pygments_lexer": "ipython3",
   "version": "3.7.3"
  }
 },
 "nbformat": 4,
 "nbformat_minor": 2
}
